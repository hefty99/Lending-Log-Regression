{
 "cells": [
  {
   "cell_type": "code",
   "execution_count": 64,
   "metadata": {
    "colab": {},
    "colab_type": "code",
    "id": "qVqlyB1zSO34"
   },
   "outputs": [],
   "source": [
    "import numpy as np\n",
    "import pandas as pd\n",
    "import random\n",
    "import statsmodels.api as sm\n",
    "from sklearn import preprocessing\n",
    "from sklearn.neighbors import KNeighborsClassifier\n",
    "from sklearn.discriminant_analysis import LinearDiscriminantAnalysis, QuadraticDiscriminantAnalysis\n",
    "from sklearn.metrics import confusion_matrix\n",
    "import matplotlib.pyplot as plt"
   ]
  },
  {
   "cell_type": "code",
   "execution_count": 65,
   "metadata": {
    "colab": {},
    "colab_type": "code",
    "id": "cEFPF_ezSnfz"
   },
   "outputs": [],
   "source": [
    "CreditData = pd.read_table(\"MGMT635_GermanCreditData.csv\", sep = ',')\n",
    "data = CreditData\n",
    "X = data.iloc[:,0:20].copy()\n",
    "y = data.iloc[:,-1].copy()\n",
    "n = len(y)\n",
    "for i in range(n):\n",
    "    if y[i] == 2:\n",
    "        y[i] = 1\n",
    "    elif y[i] == 1:\n",
    "        y[i] = 0"
   ]
  },
  {
   "cell_type": "code",
   "execution_count": 66,
   "metadata": {
    "colab": {
     "base_uri": "https://localhost:8080/",
     "height": 707
    },
    "colab_type": "code",
    "id": "6IqftzO4ZwSy",
    "outputId": "4cca1001-7d2f-437d-eaa7-a9912b42897d"
   },
   "outputs": [
    {
     "name": "stdout",
     "output_type": "stream",
     "text": [
      "Optimization terminated successfully.\n",
      "         Current function value: 0.484342\n",
      "         Iterations 6\n",
      "                         Results: Logit\n",
      "=================================================================\n",
      "Model:              Logit            Pseudo R-squared: 0.207     \n",
      "Dependent Variable: 1.1              AIC:              1007.7153 \n",
      "Date:               2020-04-22 14:52 BIC:              1105.8504 \n",
      "No. Observations:   999              Log-Likelihood:   -483.86   \n",
      "Df Model:           19               LL-Null:          -610.51   \n",
      "Df Residuals:       979              LLR p-value:      6.6397e-43\n",
      "Converged:          1.0000           Scale:            1.0000    \n",
      "No. Iterations:     6.0000                                       \n",
      "-------------------------------------------------------------------\n",
      "           Coef.    Std.Err.      z      P>|z|     [0.025    0.975]\n",
      "-------------------------------------------------------------------\n",
      "11        -0.5823     0.0697   -8.3501   0.0000   -0.7190   -0.4456\n",
      "6          0.0259     0.0086    3.0119   0.0026    0.0090    0.0427\n",
      "34        -0.3820     0.0852   -4.4844   0.0000   -0.5489   -0.2150\n",
      "43        -0.0019     0.0019   -1.0010   0.3168   -0.0057    0.0018\n",
      "1169       0.0001     0.0000    1.8383   0.0660   -0.0000    0.0002\n",
      "65        -0.2256     0.0575   -3.9242   0.0001   -0.3382   -0.1129\n",
      "75        -0.1492     0.0708   -2.1070   0.0351   -0.2880   -0.0104\n",
      "4          0.2832     0.0820    3.4533   0.0006    0.1225    0.4439\n",
      "93        -0.2555     0.1150   -2.2225   0.0263   -0.4809   -0.0302\n",
      "101       -0.2703     0.1718   -1.5731   0.1157   -0.6072    0.0665\n",
      "4.1        0.0248     0.0769    0.3228   0.7468   -0.1258    0.1755\n",
      "121        0.2033     0.0902    2.2546   0.0242    0.0266    0.3800\n",
      "67        -0.0130     0.0082   -1.5861   0.1127   -0.0290    0.0031\n",
      "143       -0.2409     0.1089   -2.2109   0.0270   -0.4544   -0.0273\n",
      "152       -0.1289     0.1602   -0.8045   0.4211   -0.4428    0.1851\n",
      "2          0.2377     0.1580    1.5044   0.1325   -0.0720    0.5474\n",
      "173        0.0452     0.1350    0.3350   0.7376   -0.2194    0.3099\n",
      "1          0.1375     0.2294    0.5995   0.5489   -0.3122    0.5872\n",
      "192       -0.0767     0.1745   -0.4395   0.6603   -0.4188    0.2653\n",
      "201        0.6412     0.2181    2.9396   0.0033    0.2137    1.0688\n",
      "=================================================================\n",
      "\n"
     ]
    }
   ],
   "source": [
    "X = X.astype(float)\n",
    "y = y.astype(float)\n",
    "\n",
    "\n",
    "regr = sm.Logit(y, X, family = sm.families.Binomial()).fit()\n",
    "print(regr.summary2())"
   ]
  },
  {
   "cell_type": "code",
   "execution_count": 67,
   "metadata": {
    "colab": {
     "base_uri": "https://localhost:8080/",
     "height": 108
    },
    "colab_type": "code",
    "id": "A11TWhMBbZne",
    "outputId": "a937d94e-2126-4460-b257-78eb0613bbfd"
   },
   "outputs": [
    {
     "name": "stdout",
     "output_type": "stream",
     "text": [
      "[0.56261154 0.02839812 0.4600665  0.57201153 0.14401504 0.06723001\n",
      " 0.52450374 0.04202592 0.48533292 0.47273851 0.81619827 0.27342889\n",
      " 0.32666377 0.54035701 0.60945418 0.03369232 0.83439804 0.63447983\n",
      " 0.11019275 0.10626081 0.2325831  0.31450498 0.1390728  0.04127084\n",
      " 0.27997469]\n"
     ]
    }
   ],
   "source": [
    "prediction = regr.predict()\n",
    "print(prediction[0:25])"
   ]
  },
  {
   "cell_type": "code",
   "execution_count": 68,
   "metadata": {
    "colab": {},
    "colab_type": "code",
    "id": "EIx7DmyEbtZm"
   },
   "outputs": [],
   "source": [
    "def contrast(variable):\n",
    "    level = list(set(variable))\n",
    "    L = len(level)\n",
    "    df = pd.DataFrame(np.zeros([L,L]), index = level, columns = level)\n",
    "    for i in range(L):\n",
    "        for j in range(L):\n",
    "            df.iloc[i,j] = 1 if i==j else 0\n",
    "    \n",
    "    return df"
   ]
  },
  {
   "cell_type": "code",
   "execution_count": 69,
   "metadata": {
    "colab": {
     "base_uri": "https://localhost:8080/",
     "height": 108
    },
    "colab_type": "code",
    "id": "6pEcXUcMb_eG",
    "outputId": "2ee49b0c-02a4-4fda-a121-8f3e435dbd21"
   },
   "outputs": [
    {
     "name": "stdout",
     "output_type": "stream",
     "text": [
      "     1    2\n",
      "1  1.0  0.0\n",
      "2  0.0  1.0\n",
      "[[621  78]\n",
      " [159 141]]\n"
     ]
    }
   ],
   "source": [
    "print(contrast(data['1.1']))\n",
    "\n",
    "result = [2 if r > .5 else 1 for r in prediction]\n",
    "print(confusion_matrix(y_pred = result, y_true = data['1.1']))"
   ]
  },
  {
   "cell_type": "code",
   "execution_count": 70,
   "metadata": {
    "colab": {},
    "colab_type": "code",
    "id": "-euq0MugeIrs"
   },
   "outputs": [],
   "source": [
    "def conf_mat(y_true, y_pred): # function version\n",
    "    df = contrast(y_true) # columns true, rows pred\n",
    "    name = df.columns.tolist()\n",
    "    n = len(y_pred)\n",
    "    for j in range(len(name)):\n",
    "        df.iloc[j,j] = 0\n",
    "    for i in range(n):\n",
    "        if y_true.iloc[i] == name[0]:\n",
    "            if y_pred[i] == name[0]:\n",
    "                df.iloc[0,0] += 1\n",
    "            else :\n",
    "                df.iloc[1,0] += 1\n",
    "        else :\n",
    "            if y_pred[i] == name[0]:\n",
    "                df.iloc[0,1] += 1\n",
    "            else :\n",
    "                df.iloc[1,1] += 1\n",
    "                \n",
    "    return df"
   ]
  },
  {
   "cell_type": "code",
   "execution_count": 71,
   "metadata": {
    "colab": {
     "base_uri": "https://localhost:8080/",
     "height": 144
    },
    "colab_type": "code",
    "id": "ewUwb7VQeNlN",
    "outputId": "937ad501-9910-4e23-dbbf-8e0056e2315c"
   },
   "outputs": [
    {
     "name": "stdout",
     "output_type": "stream",
     "text": [
      "       1      2\n",
      "1  621.0  159.0\n",
      "2   78.0  141.0 \n",
      "\n",
      "0.7627627627627628 \n",
      "\n",
      "0.30026489266738937\n"
     ]
    }
   ],
   "source": [
    "conf = conf_mat(data['1.1'], result)\n",
    "print(conf, '\\n')\n",
    "print((conf.iloc[0,0]+conf.iloc[1,1])/len(y), '\\n')\n",
    "print(np.mean(prediction))"
   ]
  },
  {
   "cell_type": "markdown",
   "metadata": {
    "colab_type": "text",
    "id": "ej3PdaL5eZBp"
   },
   "source": [
    "Confusion matrix says that 621 were correctly identified as yes's and 141 were correctly identified as no's"
   ]
  },
  {
   "cell_type": "code",
   "execution_count": 72,
   "metadata": {
    "colab": {
     "base_uri": "https://localhost:8080/",
     "height": 271
    },
    "colab_type": "code",
    "id": "5ZSxq1Au1Z3J",
    "outputId": "ce30f7dd-8f1b-4b99-b9b2-a9f0adbd48c8"
   },
   "outputs": [
    {
     "name": "stdout",
     "output_type": "stream",
     "text": [
      "     11   6  34  43  1169  65  75  4  93  101  ...  121  67  143  152  2  173  \\\n",
      "0    12  48  32  43  5951  61  73  2  92  101  ...  121  22  143  152  1  173   \n",
      "1    14  12  34  46  2096  61  74  2  93  101  ...  121  49  143  152  1  172   \n",
      "2    11  42  32  42  7882  61  74  2  93  103  ...  122  45  143  153  1  173   \n",
      "3    11  24  33  40  4870  61  73  3  93  101  ...  124  53  143  153  2  173   \n",
      "4    14  36  32  46  9055  65  73  2  93  101  ...  124  35  143  153  1  172   \n",
      "..   ..  ..  ..  ..   ...  ..  .. ..  ..  ...  ...  ...  ..  ...  ... ..  ...   \n",
      "994  14  12  32  42  1736  61  74  3  92  101  ...  121  31  143  152  1  172   \n",
      "995  11  30  32  41  3857  61  73  4  91  101  ...  122  40  143  152  1  174   \n",
      "996  14  12  32  43   804  61  75  4  93  101  ...  123  38  143  152  1  173   \n",
      "997  11  45  32  43  1845  61  73  4  93  101  ...  124  23  143  153  1  173   \n",
      "998  12  45  34  41  4576  62  71  3  93  101  ...  123  27  143  152  1  173   \n",
      "\n",
      "     1  192  201  1.1  \n",
      "0    1  191  201    2  \n",
      "1    2  191  201    1  \n",
      "2    2  191  201    1  \n",
      "3    2  191  201    2  \n",
      "4    2  192  201    1  \n",
      "..  ..  ...  ...  ...  \n",
      "994  1  191  201    1  \n",
      "995  1  192  201    1  \n",
      "996  1  191  201    1  \n",
      "997  1  192  201    2  \n",
      "998  1  191  201    1  \n",
      "\n",
      "[999 rows x 21 columns]\n"
     ]
    }
   ],
   "source": [
    "df = pd.DataFrame(data)\n",
    "print(data)\n",
    "df = df.drop(['43','4.1', '152', '173', '192'], axis=1)"
   ]
  },
  {
   "cell_type": "code",
   "execution_count": 73,
   "metadata": {
    "colab": {},
    "colab_type": "code",
    "id": "PukaH9QFexfA"
   },
   "outputs": [],
   "source": [
    "train = df.iloc[0:979,:].copy()\n",
    "test = df.iloc[979:999,:].copy()\n",
    "\n",
    "X = train.iloc[:,0:15].copy()\n",
    "y = train.iloc[:,-1].copy()\n",
    "\n",
    "X_test = test.iloc[:,0:15].copy()\n",
    "y_test = test.iloc[:,-1].copy()\n",
    "\n",
    "n = len(y)\n",
    "for i in range(n):\n",
    "    if y[i] == 2:\n",
    "        y[i] = 1\n",
    "    elif y[i] == 1:\n",
    "        y[i] = 0\n",
    "\n",
    "y = y.astype(float)\n",
    "X = X.astype(float)\n",
    "X_test = X_test.astype(float)\n"
   ]
  },
  {
   "cell_type": "code",
   "execution_count": 74,
   "metadata": {
    "colab": {
     "base_uri": "https://localhost:8080/",
     "height": 617
    },
    "colab_type": "code",
    "id": "c2bVc8WvfxOM",
    "outputId": "be21f438-c3cc-4e31-ae3d-3851ee1bd9f0"
   },
   "outputs": [
    {
     "name": "stdout",
     "output_type": "stream",
     "text": [
      "Optimization terminated successfully.\n",
      "         Current function value: 0.483625\n",
      "         Iterations 6\n",
      "                         Results: Logit\n",
      "=================================================================\n",
      "Model:              Logit            Pseudo R-squared: 0.211     \n",
      "Dependent Variable: 1.1              AIC:              976.9369  \n",
      "Date:               2020-04-22 14:52 BIC:              1050.2349 \n",
      "No. Observations:   979              Log-Likelihood:   -473.47   \n",
      "Df Model:           14               LL-Null:          -599.97   \n",
      "Df Residuals:       964              LLR p-value:      6.8610e-46\n",
      "Converged:          1.0000           Scale:            1.0000    \n",
      "No. Iterations:     6.0000                                       \n",
      "-------------------------------------------------------------------\n",
      "           Coef.    Std.Err.      z      P>|z|     [0.025    0.975]\n",
      "-------------------------------------------------------------------\n",
      "11        -0.5925     0.0700   -8.4595   0.0000   -0.7298   -0.4553\n",
      "6          0.0261     0.0087    2.9973   0.0027    0.0090    0.0431\n",
      "34        -0.4039     0.0869   -4.6506   0.0000   -0.5742   -0.2337\n",
      "1169       0.0001     0.0000    1.6891   0.0912   -0.0000    0.0001\n",
      "65        -0.2256     0.0577   -3.9067   0.0001   -0.3388   -0.1124\n",
      "75        -0.1546     0.0702   -2.2003   0.0278   -0.2923   -0.0169\n",
      "4          0.2971     0.0819    3.6251   0.0003    0.1364    0.4577\n",
      "93        -0.3017     0.1154   -2.6136   0.0090   -0.5280   -0.0755\n",
      "101       -0.2980     0.1717   -1.7358   0.0826   -0.6344    0.0385\n",
      "121        0.1829     0.0824    2.2199   0.0264    0.0214    0.3444\n",
      "67        -0.0155     0.0078   -1.9868   0.0469   -0.0308   -0.0002\n",
      "143       -0.2140     0.1088   -1.9675   0.0491   -0.4272   -0.0008\n",
      "2          0.2727     0.1591    1.7137   0.0866   -0.0392    0.5846\n",
      "1          0.1166     0.2312    0.5046   0.6139   -0.3364    0.5697\n",
      "201        0.5446     0.1474    3.6937   0.0002    0.2556    0.8336\n",
      "=================================================================\n",
      "\n"
     ]
    }
   ],
   "source": [
    "regr = sm.Logit(y, X, family=sm.families.Binomial()).fit()\n",
    "print(regr.summary2())"
   ]
  },
  {
   "cell_type": "code",
   "execution_count": 75,
   "metadata": {
    "colab": {
     "base_uri": "https://localhost:8080/",
     "height": 108
    },
    "colab_type": "code",
    "id": "5sy5nn9Gzw1Q",
    "outputId": "9e9de308-4c5c-4bb2-86d4-2c0d98c8e145"
   },
   "outputs": [
    {
     "name": "stdout",
     "output_type": "stream",
     "text": [
      "      1    2\n",
      "1  12.0  1.0\n",
      "2   4.0  3.0 \n",
      "\n",
      "0.75\n"
     ]
    }
   ],
   "source": [
    "pred = regr.predict(X_test)\n",
    "result = [2 if r > .5 else 1 for r in pred]\n",
    "conf = conf_mat(y_test, result)\n",
    "print(conf, '\\n')\n",
    "print((conf.iloc[0,0]+conf.iloc[1,1])/np.sum(conf.values))"
   ]
  },
  {
   "cell_type": "markdown",
   "metadata": {
    "colab_type": "text",
    "id": "_npNXJS_7oB4"
   },
   "source": [
    "What this confusion matrix tells us is that the model accurately predicted 12 goods and 3 bads, but was incorrect on 25% of the test samples.\n",
    "\n",
    "---\n",
    "\n"
   ]
  },
  {
   "cell_type": "markdown",
   "metadata": {
    "colab_type": "text",
    "id": "ajwVrz52VfB3"
   },
   "source": [
    "The goal of this project was to create code for a machine learning program that would be able to predict whether or not to lend money to them. For this project we were given 1000 data points with 20 different variables.  Some of these examples were age, sex, marital statues, income, property, other debtors etc. and we needed to decide which of these variables we wanted to use for our machine learning code to get the most accurate model possible. We used 980 users to train the model, and 20 users to test the model. The type of model I decided to use is called a logistic regression model. We use these types of models when the dependent variable is dichotomous otherwise known as binary.  In this case the dependent variable we would be looking at is whether or not we wanted to lend money to an individual. To avoid overfitting the model, I screened the data and looked for the 5 variables with the highest p-value. A pvalue higher then that would indicate it is not statistically significant and we do not want it. If I were to build another machine algorithm in the future I could try getting rid of all statistically insignificant data.\n",
    "\n",
    "\n"
   ]
  }
 ],
 "metadata": {
  "colab": {
   "collapsed_sections": [],
   "name": "FIN410Project.ipynb",
   "provenance": []
  },
  "kernelspec": {
   "display_name": "Python 3",
   "language": "python",
   "name": "python3"
  },
  "language_info": {
   "codemirror_mode": {
    "name": "ipython",
    "version": 3
   },
   "file_extension": ".py",
   "mimetype": "text/x-python",
   "name": "python",
   "nbconvert_exporter": "python",
   "pygments_lexer": "ipython3",
   "version": "3.7.4"
  }
 },
 "nbformat": 4,
 "nbformat_minor": 1
}
